{
 "cells": [
  {
   "cell_type": "markdown",
   "metadata": {},
   "source": [
    "# Practice Interview\n",
    "\n",
    "## Objective\n",
    "\n",
    "_*The partner assignment aims to provide participants with the opportunity to practice coding in an interview context. You will analyze your partner's Assignment 1. Moreover, code reviews are common practice in a software development team. This assignment should give you a taste of the code review process.*_\n",
    "\n",
    "## Group Size\n",
    "\n",
    "Each group should have 2 people. You will be assigned a partner\n",
    "\n",
    "## Part 1:\n",
    "\n",
    "You and your partner must share each other's Assignment 1 submission.\n",
    "Teaching assistant provided link: https://github.com/AdithyaLab/algorithms_and_data_structures/pulls"
   ]
  },
  {
   "cell_type": "markdown",
   "metadata": {},
   "source": [
    "\n",
    "## Part 2:\n",
    "\n",
    "Create a Jupyter Notebook, create 6 of the following headings, and complete the following for your partner's assignment 1:\n",
    "\n",
    "-   Paraphrase the problem in your own words.\n"
   ]
  },
  {
   "cell_type": "code",
   "execution_count": null,
   "metadata": {},
   "outputs": [],
   "source": [
    "# Your answer here\n",
    "Qestion 2:\n",
    "# The task is to find all the paths from the root node to each leaf node in a binary tree and return these paths in any order.\n",
    "# A leaf node is defined as a node that does not have any children.\n",
    "\n"
   ]
  },
  {
   "cell_type": "markdown",
   "metadata": {},
   "source": [
    "\n",
    "-   Create 1 new example that demonstrates you understand the problem. Trace/walkthrough 1 example that your partner made and explain it.\n"
   ]
  },
  {
   "cell_type": "code",
   "execution_count": null,
   "metadata": {},
   "outputs": [],
   "source": [
    "# Your answer here\n",
    "'''\n",
    "     7\n",
    "    / \\\n",
    "   3   9\n",
    "  / \\   \\\n",
    " 2   3   11\n",
    "Input: root = [7, 3, 9, 2, 3, 11]\n",
    "Output: 3 (as this is the duplicate value closest to the root)\n",
    "\n",
    "Trace:\n",
    "\n",
    "- Start at the root (7). add 7 to the queue \n",
    "- Dequeue 7, add to visited: {7}, enqueue 3 and 9: queue = [3, 9].\n",
    "- Dequeue 3, add to visited: {3, 7}, enqueue 2 and 3: queue = [9, 2, 3].\n",
    "- Dequeue 9, add to visited: {9, 3, 7}, enqueue 11: queue = [2, 3, 11].\n",
    "- Dequeue 2, add to visited: {2, 9, 3, 7}, no children to enqueue: queue = [ 3, 11]\n",
    "- Dequeue 3, check visited, duplicate found: 3 return 3\n",
    "\n",
    "if dublicate not found - return -1\n",
    "\n",
    "'''"
   ]
  },
  {
   "cell_type": "markdown",
   "metadata": {},
   "source": [
    "`\n",
    "-   Copy the solution your partner wrote. \n"
   ]
  },
  {
   "cell_type": "code",
   "execution_count": 1,
   "metadata": {},
   "outputs": [
    {
     "name": "stdout",
     "output_type": "stream",
     "text": [
      "2\n",
      "10\n",
      "-1\n"
     ]
    }
   ],
   "source": [
    "# Your answer here\n",
    "\n",
    "import collections\n",
    "\n",
    "\n",
    "class TreeNode(object):\n",
    "  def __init__(self, val = 0, left = None, right = None):\n",
    "      self.val = val\n",
    "      self.left = left\n",
    "      self.right = right\n",
    "def is_duplicate(root: TreeNode) -> int: # fn to check for duplicates\n",
    "    if not root:\n",
    "        return -1\n",
    "    visited = set()\n",
    "    queue = collections.deque([root])\n",
    "    result = -1\n",
    "    while queue: # BFS algorithm\n",
    "        node = queue.popleft()\n",
    "        if node.val in visited:\n",
    "            return node.val\n",
    "        visited.add(node.val)\n",
    "        if node.left:\n",
    "            queue.append(node.left)\n",
    "        if node.right:\n",
    "            queue.append(node.right)\n",
    "    return result\n",
    "\n",
    "#example 1\n",
    "root1 = TreeNode(1)\n",
    "root1.left = TreeNode(2)\n",
    "root1.right = TreeNode(2)\n",
    "root1.left.left = TreeNode(3)\n",
    "root1.left.right = TreeNode(5)\n",
    "root1.right.left = TreeNode(6)\n",
    "root1.right.right = TreeNode(7)\n",
    "print(is_duplicate(root1))\n",
    "\n",
    "#example 2\n",
    "root2 = TreeNode(1)\n",
    "root2.left = TreeNode(10)\n",
    "root2.right = TreeNode(2)\n",
    "root2.left.left = TreeNode(3)\n",
    "root2.left.right = TreeNode(10)\n",
    "root2.right.left = TreeNode(12)\n",
    "root2.right.right = TreeNode(12)\n",
    "print(is_duplicate(root2))\n",
    "\n",
    "#example 3\n",
    "root3 = TreeNode(10)\n",
    "root3.left = TreeNode(9)\n",
    "root3.right = TreeNode(7)\n",
    "root3.left.centre = TreeNode(8)\n",
    "print(is_duplicate(root3))"
   ]
  },
  {
   "cell_type": "markdown",
   "metadata": {},
   "source": [
    "\n",
    "-   Explain why their solution works in your own words.\n"
   ]
  },
  {
   "cell_type": "code",
   "execution_count": null,
   "metadata": {},
   "outputs": [],
   "source": [
    "# Your answer here\n",
    "'''\n",
    "The solution works by using a Breadth-First Search (BFS) to traverse the tree level by level.\n",
    "this ensures that the closest duplicate to the root is found first. \n",
    "first we check on None and proceed only if the node is not None\n",
    "initialising visited set and deque collection\n",
    "while queue is not empty we start from the left leaf and if it in visited. Once we found duplicate we return closest duplicate, \n",
    "otherwise proceed to the and of the tree and return -1\n",
    "'''"
   ]
  },
  {
   "cell_type": "markdown",
   "metadata": {},
   "source": [
    "\n",
    "Explain the problem’s time and space complexity in your own words."
   ]
  },
  {
   "cell_type": "code",
   "execution_count": null,
   "metadata": {},
   "outputs": [],
   "source": [
    "# Your answer here\n",
    "# time complexity O(n):\n",
    "#  - traverse using BFS in worst case will visit each node once\n",
    "#  - checkicn dublicates in set is O(1)\n",
    "#  - add / remove value in a queue  will be only once\n",
    "# \n",
    "# \n",
    "# space complexity O(n):\n",
    "#  - for storing nonbalanced tree the max complexity will be O(n), for balanced O(n/2)\n",
    "#  - visited it also will be O(n) in worst case\n"
   ]
  },
  {
   "cell_type": "markdown",
   "metadata": {},
   "source": [
    "\n",
    "-   Critique your partner's solution, including explanation, and if there is anything that should be adjusted.\n"
   ]
  },
  {
   "cell_type": "code",
   "execution_count": null,
   "metadata": {},
   "outputs": [],
   "source": [
    "# Your answer here\n",
    "# The BFS makes sure that the closest duplicate to the root is found first, this is optimal solution\n",
    "# the code is clear and easy to understand, it also has return for edge cases like None"
   ]
  },
  {
   "cell_type": "markdown",
   "metadata": {},
   "source": [
    "\n",
    "## Part 3:\n",
    "\n",
    "Please write a 200 word reflection documenting your process from assignment 1, and your presentation and review experience with your partner at the bottom of the Jupyter Notebook under a new heading \"Reflection.\" Again, export this Notebook as pdf.\n"
   ]
  },
  {
   "cell_type": "markdown",
   "metadata": {},
   "source": [
    "### Reflection"
   ]
  },
  {
   "cell_type": "code",
   "execution_count": null,
   "metadata": {},
   "outputs": [],
   "source": [
    "# Your answer here\n",
    "'''\n",
    "For the first assignment, the task was to identify the missing numbers from list of numbers in the range from 0 to n. \n",
    "The solution involved converting the input list to a set for efficient search of duplicates and iterating from 0 to n to find missing numbers. \n",
    "If any missing numbers were found, they were returned, otherwise,  i return -1. This method has linear time complexity and efficient space usage.\n",
    "\n",
    "During assignment 2 wi have to analize solution if the task to find the closest duplicate value in a binary tree using Breadt First Search.\n",
    " BFS was chosen for its orfder traversal, which helps to find the closest duplicate to the root. The solution uses set to track visited nodes and a queue for the traversal.\n",
    "In in reviewing partner's solution, the focus was on efficiency, clarity and completeness. Explaining the algorithm's steps, time complexity, and space complexity helps me to understand sulutuion better. \n",
    "I also wanted to figure out why BFS is a best option here in comparison to other methods.\n",
    "\n",
    "The assignments combining both technical and collaborative experience it helps to figure out how to implement your soulution, but it also requires to analyze partners code which is more complex because you also need to learn more about different approaches to provide comperhensive feedback.\n",
    "'''"
   ]
  },
  {
   "cell_type": "markdown",
   "metadata": {},
   "source": [
    "\n",
    "## Evaluation Criteria\n",
    "\n",
    "We are looking for the similar points as Assignment 1\n",
    "\n",
    "-   Problem is accurately stated\n",
    "\n",
    "-   New example is correct and easily understandable\n",
    "\n",
    "-   Correctness, time, and space complexity of the coding solution\n",
    "\n",
    "-   Clarity in explaining why the solution works, its time and space complexity\n",
    "\n",
    "-   Quality of critique of your partner's assignment, if necessary\n"
   ]
  },
  {
   "cell_type": "markdown",
   "metadata": {},
   "source": [
    "## Submission Information\n",
    "\n",
    "🚨 **Please review our [Assignment Submission Guide](https://github.com/UofT-DSI/onboarding/blob/main/onboarding_documents/submissions.md)** 🚨 for detailed instructions on how to format, branch, and submit your work. Following these guidelines is crucial for your submissions to be evaluated correctly.\n",
    "\n",
    "### Submission Parameters:\n",
    "* Submission Due Date: `HH:MM AM/PM - DD/MM/YYYY`\n",
    "* The branch name for your repo should be: `assignment-2`\n",
    "* What to submit for this assignment:\n",
    "    * This Jupyter Notebook (assignment_2.ipynb) should be populated and should be the only change in your pull request.\n",
    "* What the pull request link should look like for this assignment: `https://github.com/<your_github_username>/algorithms_and_data_structures/pull/<pr_id>`\n",
    "    * Open a private window in your browser. Copy and paste the link to your pull request into the address bar. Make sure you can see your pull request properly. This helps the technical facilitator and learning support staff review your submission easily.\n",
    "\n",
    "Checklist:\n",
    "- [ ] Created a branch with the correct naming convention.\n",
    "- [ ] Ensured that the repository is public.\n",
    "- [ ] Reviewed the PR description guidelines and adhered to them.\n",
    "- [ ] Verify that the link is accessible in a private browser window.\n",
    "\n",
    "If you encounter any difficulties or have questions, please don't hesitate to reach out to our team via our Slack at `#cohort-3-help`. Our Technical Facilitators and Learning Support staff are here to help you navigate any challenges.\n"
   ]
  }
 ],
 "metadata": {
  "kernelspec": {
   "display_name": "dsi_participant_2",
   "language": "python",
   "name": "python3"
  },
  "language_info": {
   "codemirror_mode": {
    "name": "ipython",
    "version": 3
   },
   "file_extension": ".py",
   "mimetype": "text/x-python",
   "name": "python",
   "nbconvert_exporter": "python",
   "pygments_lexer": "ipython3",
   "version": "3.9.18"
  }
 },
 "nbformat": 4,
 "nbformat_minor": 2
}
